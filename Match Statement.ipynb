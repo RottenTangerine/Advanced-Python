{
 "cells": [
  {
   "cell_type": "markdown",
   "source": [
    "# Match Case\n",
    "\n",
    "Recommend reading:\n",
    "[Match Case Python - Python Pool](https://www.pythonpool.com/match-case-python/#:~:text=To%20implement%20switch-case%20like%20characteristics%20and%20if-else%20functionalities%2C,the%20present%20patterns%20until%20it%20fits%20into%20one.)\n",
    "\n",
    "The match case consists of three main entities :\n",
    "\n",
    "- The match keyword\n",
    "- One or more case clauses\n",
    "- Expression for each case\n",
    "\n",
    "cases match types:\n",
    "\n",
    "- content\n",
    "- type\n",
    "- patten\n"
   ],
   "metadata": {
    "collapsed": false,
    "pycharm": {
     "name": "#%% md\n"
    }
   }
  },
  {
   "cell_type": "markdown",
   "source": [
    "### Content match & Type match"
   ],
   "metadata": {
    "collapsed": false,
    "pycharm": {
     "name": "#%% md\n"
    }
   }
  },
  {
   "cell_type": "code",
   "execution_count": null,
   "outputs": [],
   "source": [
    "sample = [0, 1, (2, 3)]\n",
    "L = ['a', 'b', ['cc', 'dd', ['eee', 'fff']], 'g', 'h']\n",
    "nest = [((0, 1), (2, 3), 4, 5, ((6, 7, 8), ((9, 10), ((11, 12, ((13, 14), 15), 16), 17))))]"
   ],
   "metadata": {
    "collapsed": false,
    "pycharm": {
     "name": "#%%\n"
    }
   }
  },
  {
   "cell_type": "code",
   "execution_count": null,
   "outputs": [],
   "source": [
    "def flatten_elegant(elements):\n",
    "    match elements:\n",
    "        case []: return []\n",
    "        case list() | tuple() | set() as first, *remains:\n",
    "            return flatten_elegant(first) + flatten_elegant(remains)\n",
    "        case _: return [elements[0]] + flatten_elegant(elements[1:])"
   ],
   "metadata": {
    "collapsed": false,
    "pycharm": {
     "name": "#%%\n"
    }
   }
  },
  {
   "cell_type": "markdown",
   "source": [
    "### Patten match"
   ],
   "metadata": {
    "collapsed": false
   }
  },
  {
   "cell_type": "code",
   "execution_count": 1,
   "outputs": [],
   "source": [
    "color_json = {'text': 'Car', 'color': 'Red'}\n",
    "state_json = {'sleep': 'off', 'time': 10}\n",
    "state_with_person = {'sleep': 'off', 'time': 10, 'person': {'name': 'John', 'age': 30}}"
   ],
   "metadata": {
    "collapsed": false,
    "pycharm": {
     "name": "#%%\n"
    }
   }
  },
  {
   "cell_type": "code",
   "execution_count": null,
   "outputs": [],
   "source": [
    "def parse_json(json_string):\n",
    "    match json_string:\n",
    "        case {'text': str(name), 'color': str(c)}:\n",
    "            print(f'Give {name} with color {c}')\n",
    "        case {'sleep': str(state), 'time': int(t), 'person': {'name': str(name), 'age': int(age)}}:\n",
    "            print(f'{name} with age {age} has been {state} for {t}')\n",
    "        case {'sleep': str(state), 'time': int(t)}:\n",
    "            print(f'{state} for {t}')\n",
    "        case _:\n",
    "            raise TypeError('invalid json')"
   ],
   "metadata": {
    "collapsed": false,
    "pycharm": {
     "name": "#%%\n"
    }
   }
  }
 ],
 "metadata": {
  "kernelspec": {
   "display_name": "Python 3",
   "language": "python",
   "name": "python3"
  },
  "language_info": {
   "codemirror_mode": {
    "name": "ipython",
    "version": 2
   },
   "file_extension": ".py",
   "mimetype": "text/x-python",
   "name": "python",
   "nbconvert_exporter": "python",
   "pygments_lexer": "ipython2",
   "version": "2.7.6"
  }
 },
 "nbformat": 4,
 "nbformat_minor": 0
}