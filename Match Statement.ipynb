{
 "cells": [
  {
   "cell_type": "code",
   "execution_count": 1,
   "metadata": {
    "collapsed": true
   },
   "outputs": [],
   "source": [
    "color_json = {'text': 'Car', 'color': 'Red'}\n",
    "state_json = {'sleep': 'off', 'time': 10}\n",
    "state_with_person = {'sleep': 'off', 'time': 10, 'person': {'name': 'John', 'age': 30}}"
   ]
  },
  {
   "cell_type": "markdown",
   "source": [
    "\n",
    "The old way to process nested data can be very complicate"
   ],
   "metadata": {
    "collapsed": false,
    "pycharm": {
     "name": "#%% md\n"
    }
   }
  },
  {
   "cell_type": "code",
   "execution_count": null,
   "outputs": [],
   "source": [
    "def perse_json_past(json_string):\n",
    "    if isinstance(json_string, dict):\n",
    "        if 'text' in json_string and 'color' in json_string:\n",
    "            print(json_string['text'])"
   ],
   "metadata": {
    "collapsed": false,
    "pycharm": {
     "name": "#%%\n"
    }
   }
  },
  {
   "cell_type": "code",
   "execution_count": null,
   "outputs": [],
   "source": [
    "def parse_json(json_string):\n",
    "    match json_string:\n",
    "        case {'text': str(name) 'color': str(c)}:\n",
    "            print(f'Give {name} with color {c}')\n",
    "        case {'sleep': {state}, 'time': int(t)}:\n",
    "            print(f'{state} for {t}')\n",
    "        case{'sleep': str(state), 'time': int(t), 'person': {'name': str(name), 'age': int(age)}}:\n",
    "            print(f'{name} with age {age} has been {state} for {t}')\n",
    "        case _:\n",
    "            raise TypeError('invalid json')"
   ],
   "metadata": {
    "collapsed": false,
    "pycharm": {
     "name": "#%%\n"
    }
   }
  }
 ],
 "metadata": {
  "kernelspec": {
   "display_name": "Python 3",
   "language": "python",
   "name": "python3"
  },
  "language_info": {
   "codemirror_mode": {
    "name": "ipython",
    "version": 2
   },
   "file_extension": ".py",
   "mimetype": "text/x-python",
   "name": "python",
   "nbconvert_exporter": "python",
   "pygments_lexer": "ipython2",
   "version": "2.7.6"
  }
 },
 "nbformat": 4,
 "nbformat_minor": 0
}