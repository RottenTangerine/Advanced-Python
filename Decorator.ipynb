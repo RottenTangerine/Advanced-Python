{
 "cells": [
  {
   "cell_type": "code",
   "execution_count": 1,
   "outputs": [],
   "source": [
    "import time"
   ],
   "metadata": {
    "collapsed": false,
    "pycharm": {
     "name": "#%%\n"
    }
   }
  },
  {
   "cell_type": "markdown",
   "source": [
    "### An old way to calculate code processing time"
   ],
   "metadata": {
    "collapsed": false,
    "pycharm": {
     "name": "#%% md\n"
    }
   }
  },
  {
   "cell_type": "code",
   "execution_count": 2,
   "metadata": {
    "collapsed": true,
    "pycharm": {
     "name": "#%%\n"
    }
   },
   "outputs": [],
   "source": [
    "def factorial(n):\n",
    "    return n * factorial(n-1) if n>=1 else 1"
   ]
  },
  {
   "cell_type": "code",
   "execution_count": 3,
   "outputs": [],
   "source": [
    "def sum_range(n, m):\n",
    "    return sum([i for i in range(n, m)])"
   ],
   "metadata": {
    "collapsed": false,
    "pycharm": {
     "name": "#%%\n"
    }
   }
  },
  {
   "cell_type": "code",
   "execution_count": 4,
   "outputs": [
    {
     "name": "stdout",
     "output_type": "stream",
     "text": [
      "Time used 0.0\n"
     ]
    }
   ],
   "source": [
    "begin = time.time()\n",
    "factorial(1000)\n",
    "end = time.time()\n",
    "print(f'Time used {end - begin}')"
   ],
   "metadata": {
    "collapsed": false,
    "pycharm": {
     "name": "#%%\n"
    }
   }
  },
  {
   "cell_type": "code",
   "execution_count": 5,
   "outputs": [
    {
     "name": "stdout",
     "output_type": "stream",
     "text": [
      "35\n",
      "Time used 0.0\n"
     ]
    }
   ],
   "source": [
    "begin = time.time()\n",
    "print(sum_range(5, 10))\n",
    "end = time.time()\n",
    "print(f'Time used {end - begin}')"
   ],
   "metadata": {
    "collapsed": false,
    "pycharm": {
     "name": "#%%\n"
    }
   }
  },
  {
   "cell_type": "markdown",
   "source": [
    "### Write a decorator"
   ],
   "metadata": {
    "collapsed": false,
    "pycharm": {
     "name": "#%% md\n"
    }
   }
  },
  {
   "cell_type": "code",
   "execution_count": 6,
   "outputs": [],
   "source": [
    "def get_time(f):\n",
    "    def _warp(*args, **kwargs):\n",
    "        begin = time.time()\n",
    "        value = f(*args, **kwargs)\n",
    "        end = time.time()\n",
    "        print(f'{f.__name__} used time : {end - begin}')\n",
    "        return value\n",
    "    return _warp"
   ],
   "metadata": {
    "collapsed": false,
    "pycharm": {
     "name": "#%%\n"
    }
   }
  },
  {
   "cell_type": "markdown",
   "source": [
    "These two ways to use `get_time` function is equivalent"
   ],
   "metadata": {
    "collapsed": false,
    "pycharm": {
     "name": "#%% md\n"
    }
   }
  },
  {
   "cell_type": "code",
   "execution_count": 7,
   "outputs": [
    {
     "name": "stdout",
     "output_type": "stream",
     "text": [
      "factorial used time : 0.0\n",
      "factorial used time : 0.0\n",
      "factorial used time : 0.0\n",
      "factorial used time : 0.0\n",
      "factorial used time : 0.0\n",
      "factorial used time : 0.0\n",
      "factorial used time : 0.0\n",
      "factorial used time : 0.0\n",
      "factorial used time : 0.0\n",
      "factorial used time : 0.0\n",
      "factorial used time : 0.0\n"
     ]
    },
    {
     "data": {
      "text/plain": "3628800"
     },
     "execution_count": 7,
     "metadata": {},
     "output_type": "execute_result"
    }
   ],
   "source": [
    "def factorial(n):\n",
    "    return n * factorial(n-1) if n>=1 else 1\n",
    "factorial = get_time(factorial)\n",
    "factorial(10)"
   ],
   "metadata": {
    "collapsed": false,
    "pycharm": {
     "name": "#%%\n"
    }
   }
  },
  {
   "cell_type": "code",
   "execution_count": 8,
   "outputs": [
    {
     "name": "stdout",
     "output_type": "stream",
     "text": [
      "factorial used time : 0.0\n",
      "factorial used time : 0.0\n",
      "factorial used time : 0.0\n",
      "factorial used time : 0.0\n",
      "factorial used time : 0.0\n",
      "factorial used time : 0.0\n",
      "factorial used time : 0.0\n",
      "factorial used time : 0.0\n",
      "factorial used time : 0.0\n",
      "factorial used time : 0.0\n",
      "factorial used time : 0.0\n"
     ]
    },
    {
     "data": {
      "text/plain": "3628800"
     },
     "execution_count": 8,
     "metadata": {},
     "output_type": "execute_result"
    }
   ],
   "source": [
    "@get_time\n",
    "def factorial(n):\n",
    "    return n * factorial(n-1) if n>=1 else 1\n",
    "factorial(10)"
   ],
   "metadata": {
    "collapsed": false,
    "pycharm": {
     "name": "#%%\n"
    }
   }
  },
  {
   "cell_type": "markdown",
   "source": [
    "## Write a cache decorator"
   ],
   "metadata": {
    "collapsed": false,
    "pycharm": {
     "name": "#%% md\n"
    }
   }
  },
  {
   "cell_type": "code",
   "execution_count": 9,
   "outputs": [],
   "source": [
    "def cache(f):\n",
    "    _memo = {}\n",
    "\n",
    "    def _warp(*args, **kwargs):\n",
    "        if args in _memo:\n",
    "            return _memo[args]\n",
    "        else:\n",
    "            value = f(*args, **kwargs)\n",
    "            _memo[args] = value\n",
    "            return value\n",
    "    return _warp"
   ],
   "metadata": {
    "collapsed": false,
    "pycharm": {
     "name": "#%%\n"
    }
   }
  },
  {
   "cell_type": "code",
   "execution_count": 10,
   "outputs": [
    {
     "name": "stdout",
     "output_type": "stream",
     "text": [
      "fib used time : 0.0\n",
      "fib used time : 0.0\n",
      "fib used time : 0.0\n",
      "fib used time : 0.0\n",
      "fib used time : 0.0\n",
      "fib used time : 0.0\n",
      "fib used time : 0.0\n",
      "fib used time : 0.0\n",
      "fib used time : 0.0\n",
      "fib used time : 0.0\n",
      "fib used time : 0.0\n",
      "fib used time : 0.0\n",
      "fib used time : 0.0\n",
      "fib used time : 0.0\n",
      "fib used time : 0.0\n",
      "fib used time : 0.0\n",
      "fib used time : 0.0\n",
      "fib used time : 0.0\n",
      "fib used time : 0.0\n",
      "fib used time : 0.0\n"
     ]
    },
    {
     "data": {
      "text/plain": "6765"
     },
     "execution_count": 10,
     "metadata": {},
     "output_type": "execute_result"
    }
   ],
   "source": [
    "@cache\n",
    "@get_time\n",
    "def fib(n):\n",
    "    return fib(n-2) + fib(n-1) if n>2 else 1\n",
    "\n",
    "fib(20)"
   ],
   "metadata": {
    "collapsed": false,
    "pycharm": {
     "name": "#%%\n"
    }
   }
  }
 ],
 "metadata": {
  "kernelspec": {
   "display_name": "Python 3",
   "language": "python",
   "name": "python3"
  },
  "language_info": {
   "codemirror_mode": {
    "name": "ipython",
    "version": 2
   },
   "file_extension": ".py",
   "mimetype": "text/x-python",
   "name": "python",
   "nbconvert_exporter": "python",
   "pygments_lexer": "ipython2",
   "version": "2.7.6"
  }
 },
 "nbformat": 4,
 "nbformat_minor": 0
}