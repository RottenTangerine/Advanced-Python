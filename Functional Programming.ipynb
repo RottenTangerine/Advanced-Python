{
 "cells": [
  {
   "cell_type": "markdown",
   "source": [
    "# Functional Programming\n",
    "\n",
    "Functional programming is trying to\n",
    "\n",
    "Recommended reading: [Functional programming - tutorials point](https://www.tutorialspoint.com/functional_programming/functional_programming_introduction.htm)"
   ],
   "metadata": {
    "collapsed": false,
    "pycharm": {
     "name": "#%% md\n"
    }
   }
  },
  {
   "cell_type": "markdown",
   "source": [
    "## Example 1"
   ],
   "metadata": {
    "collapsed": false,
    "pycharm": {
     "name": "#%% md\n"
    }
   }
  },
  {
   "cell_type": "code",
   "execution_count": 1,
   "outputs": [],
   "source": [
    "def leave(): print('quit')\n",
    "def go_on(): print('continue')\n",
    "def break_down(): print('break down')"
   ],
   "metadata": {
    "collapsed": false,
    "pycharm": {
     "name": "#%%\n"
    }
   }
  },
  {
   "cell_type": "markdown",
   "metadata": {
    "collapsed": true,
    "pycharm": {
     "name": "#%% md\n"
    }
   },
   "source": [
    "### Old way"
   ]
  },
  {
   "cell_type": "code",
   "execution_count": 5,
   "outputs": [
    {
     "name": "stdout",
     "output_type": "stream",
     "text": [
      "break down\n"
     ]
    }
   ],
   "source": [
    "def person_action(action):\n",
    "    if action == 'quit':\n",
    "        leave()\n",
    "    elif action == 'continue':\n",
    "        go_on()\n",
    "    elif action == 'break':\n",
    "        break_down()\n",
    "\n",
    "\n",
    "person_action(input('input action:'))"
   ],
   "metadata": {
    "collapsed": false,
    "pycharm": {
     "name": "#%%\n"
    }
   }
  },
  {
   "cell_type": "markdown",
   "source": [
    "### More elegant way (using functional programming)\n",
    "\n",
    "If we want to change function, we just need to make modify in `func_mapping` rather than change the `person_action()` function"
   ],
   "metadata": {
    "collapsed": false,
    "pycharm": {
     "name": "#%% md\n"
    }
   }
  },
  {
   "cell_type": "code",
   "execution_count": 6,
   "outputs": [],
   "source": [
    "func_mapping = {\n",
    "    'quit':leave,\n",
    "    'continue':go_on,\n",
    "    'break': break_down,\n",
    "}\n",
    "\n",
    "def person_action(action):\n",
    "    for cmd, func in func_mapping.items():\n",
    "        if action == cmd:\n",
    "            func()\n",
    "            break\n",
    "\n",
    "person_action(input('input action:'))"
   ],
   "metadata": {
    "collapsed": false,
    "pycharm": {
     "name": "#%%\n"
    }
   }
  },
  {
   "cell_type": "markdown",
   "source": [
    "## Example 2\n",
    "\n",
    "see [Decorator](https://github.com/RottenTangerine/Advanced-Python/blob/master/Decorator.ipynb)"
   ],
   "metadata": {
    "collapsed": false,
    "pycharm": {
     "name": "#%% md\n"
    }
   }
  }
 ],
 "metadata": {
  "kernelspec": {
   "display_name": "Python 3",
   "language": "python",
   "name": "python3"
  },
  "language_info": {
   "codemirror_mode": {
    "name": "ipython",
    "version": 2
   },
   "file_extension": ".py",
   "mimetype": "text/x-python",
   "name": "python",
   "nbconvert_exporter": "python",
   "pygments_lexer": "ipython2",
   "version": "2.7.6"
  }
 },
 "nbformat": 4,
 "nbformat_minor": 0
}