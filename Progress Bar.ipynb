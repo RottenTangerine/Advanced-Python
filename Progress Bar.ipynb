{
 "cells": [
  {
   "cell_type": "markdown",
   "metadata": {
    "collapsed": true,
    "pycharm": {
     "name": "#%% md\n"
    }
   },
   "source": [
    "# Progress Bar by using tqdm\n",
    "\n",
    "Progress bar can improve user experience and reduce anxiety.\n",
    "\n",
    "Reference: [tqdm documentation](https://tqdm.github.io/docs/tqdm)"
   ]
  },
  {
   "cell_type": "markdown",
   "source": [
    "## Common Parameters\n",
    "\n",
    "- **iterable**: An iterable object\n",
    "- **desc**: str, Description\n",
    "- **total**: Number of expected iterations\n",
    "- **leave**: True, Keeps the progress bar after finished\n",
    "- **ncols**: The width of the entire output message.If 0, will not print any meter (only stats).\n",
    "- **unit**: String that will be used to define the unit of each iteration [default: it].\n",
    "- **smoothing**: float, optional Exponential moving average smoothing factor for speed estimates (ignored in GUI mode). Ranges from 0 (average speed) to 1 (current/instantaneous speed) [default: 0.3].\n",
    "- **unit_scale**: bool, If 1 or True, the number of iterations will be printed with an appropriate SI metric prefix (k = 10^3, M = 10^6, etc.) [default: False]. If any other non-zero number, will scale total and n\n",
    "- **colour**: Bar colour eg.‘green’, ‘#00ff00’。"
   ],
   "metadata": {
    "collapsed": false,
    "pycharm": {
     "name": "#%% md\n"
    }
   }
  },
  {
   "cell_type": "markdown",
   "source": [
    "## Basic Useage\n",
    "\n",
    "**Note:**\n",
    "\n",
    "In jupyter notebook, you can import tqdm from tqdm.notebook module, It still has some bugs, so I still recommend you to use tqdm rather than tqdm.notebook even in jupyter notebook."
   ],
   "metadata": {
    "collapsed": false
   }
  },
  {
   "cell_type": "code",
   "execution_count": 2,
   "outputs": [],
   "source": [
    "import time\n",
    "from tqdm import tqdm"
   ],
   "metadata": {
    "collapsed": false,
    "pycharm": {
     "name": "#%%\n"
    }
   }
  },
  {
   "cell_type": "markdown",
   "source": [
    "### pass iterable parameter"
   ],
   "metadata": {
    "collapsed": false
   }
  },
  {
   "cell_type": "code",
   "execution_count": 3,
   "outputs": [
    {
     "name": "stderr",
     "output_type": "stream",
     "text": [
      "Some text: 100%|\u001B[38;2;255;255;0m██████████\u001B[0m| 500/500 [00:07<00:00, 64.02packages/s]\n"
     ]
    }
   ],
   "source": [
    "for i in tqdm(range(500), colour='#ffff00', desc='Some text', unit='packages'):\n",
    "    time.sleep(0.1e-10)\n",
    "\n",
    "# Off-topic: the time sleep function is based on timestamp. which means the minimum interval is 1ms, no matter how small the parameter is."
   ],
   "metadata": {
    "collapsed": false,
    "pycharm": {
     "name": "#%%\n"
    }
   }
  },
  {
   "cell_type": "code",
   "execution_count": 4,
   "outputs": [
    {
     "name": "stderr",
     "output_type": "stream",
     "text": [
      "progress : 100%|██████████| 10/10 [00:05<00:00,  1.96it/s]\n"
     ]
    }
   ],
   "source": [
    "pbar = tqdm(range(10))\n",
    "\n",
    "for i in pbar:\n",
    "    pbar.set_description(\"progress \")\n",
    "    time.sleep(0.5)"
   ],
   "metadata": {
    "collapsed": false,
    "pycharm": {
     "name": "#%%\n"
    }
   }
  },
  {
   "cell_type": "markdown",
   "source": [
    "### Nested loop"
   ],
   "metadata": {
    "collapsed": false,
    "pycharm": {
     "name": "#%% md\n"
    }
   }
  },
  {
   "cell_type": "code",
   "execution_count": 9,
   "outputs": [
    {
     "name": "stderr",
     "output_type": "stream",
     "text": [
      "                                                                   atches/s]\r"
     ]
    }
   ],
   "source": [
    "epoch_num = 5\n",
    "for epoch in range(epoch_num):\n",
    "    for i, (data) in enumerate(tqdm(range(200), leave=False, colour='cyan', desc=f'Epoch {epoch} / {epoch_num}', unit='batches')):\n",
    "        time.sleep(0.01)"
   ],
   "metadata": {
    "collapsed": false,
    "pycharm": {
     "name": "#%%\n"
    }
   }
  },
  {
   "cell_type": "markdown",
   "source": [
    "### update progress manually"
   ],
   "metadata": {
    "collapsed": false
   }
  },
  {
   "cell_type": "code",
   "execution_count": 11,
   "outputs": [
    {
     "name": "stderr",
     "output_type": "stream",
     "text": [
      " 70%|███████   | 70/100 [00:01<00:00, 63.73it/s]\n"
     ]
    }
   ],
   "source": [
    "with tqdm(total=100) as pbar:\n",
    "    for i in range(10):\n",
    "        time.sleep(0.1)\n",
    "        pbar.update(7)"
   ],
   "metadata": {
    "collapsed": false,
    "pycharm": {
     "name": "#%%\n"
    }
   }
  },
  {
   "cell_type": "code",
   "execution_count": 13,
   "outputs": [
    {
     "name": "stderr",
     "output_type": "stream",
     "text": [
      "30it [00:01, 27.45it/s]                        \n"
     ]
    }
   ],
   "source": [
    "with tqdm(total=20) as pbar:\n",
    "    for i in range(10):\n",
    "        time.sleep(0.1)\n",
    "        pbar.update(3)"
   ],
   "metadata": {
    "collapsed": false,
    "pycharm": {
     "name": "#%%\n"
    }
   }
  },
  {
   "cell_type": "markdown",
   "source": [
    "### tqdm in list comprehension"
   ],
   "metadata": {
    "collapsed": false
   }
  },
  {
   "cell_type": "code",
   "execution_count": 17,
   "outputs": [
    {
     "name": "stderr",
     "output_type": "stream",
     "text": [
      " 20%|██        | 1/5 [00:01<00:04,  1.01s/it]"
     ]
    },
    {
     "name": "stdout",
     "output_type": "stream",
     "text": [
      "My\n"
     ]
    },
    {
     "name": "stderr",
     "output_type": "stream",
     "text": [
      " 40%|████      | 2/5 [00:02<00:03,  1.01s/it]"
     ]
    },
    {
     "name": "stdout",
     "output_type": "stream",
     "text": [
      "Name\n"
     ]
    },
    {
     "name": "stderr",
     "output_type": "stream",
     "text": [
      " 60%|██████    | 3/5 [00:03<00:02,  1.01s/it]"
     ]
    },
    {
     "name": "stdout",
     "output_type": "stream",
     "text": [
      "Is\n"
     ]
    },
    {
     "name": "stderr",
     "output_type": "stream",
     "text": [
      " 80%|████████  | 4/5 [00:04<00:01,  1.01s/it]"
     ]
    },
    {
     "name": "stdout",
     "output_type": "stream",
     "text": [
      "Ashwini\n"
     ]
    },
    {
     "name": "stderr",
     "output_type": "stream",
     "text": [
      "100%|██████████| 5/5 [00:05<00:00,  1.01s/it]"
     ]
    },
    {
     "name": "stdout",
     "output_type": "stream",
     "text": [
      "Mandani\n"
     ]
    },
    {
     "name": "stderr",
     "output_type": "stream",
     "text": [
      "\n"
     ]
    },
    {
     "data": {
      "text/plain": "[(None, None), (None, None), (None, None), (None, None), (None, None)]"
     },
     "execution_count": 17,
     "metadata": {},
     "output_type": "execute_result"
    }
   ],
   "source": [
    "list1 = [\"My\",\"Name\",\"Is\",\"Ashwini\",\"Mandani\"]\n",
    "[(time.sleep(1), print(i)) for i in tqdm(list1)]"
   ],
   "metadata": {
    "collapsed": false,
    "pycharm": {
     "name": "#%%\n"
    }
   }
  },
  {
   "cell_type": "markdown",
   "source": [
    "## Advance"
   ],
   "metadata": {
    "collapsed": false,
    "pycharm": {
     "name": "#%% md\n"
    }
   }
  },
  {
   "cell_type": "code",
   "execution_count": 20,
   "outputs": [
    {
     "name": "stderr",
     "output_type": "stream",
     "text": [
      "100%|███████████████████████████████████████████████████████████████████████████████████████████████████████████████████████████████████████████████████████████████████████████████████████████████████████████████████████████████████████████████████████████████████████████████████████████████████████████████████████████████████████████████████████████████████████████████████████████████████████████████████████████████████████████████████████████████████████████| 100/100 [00:00<00:00, 6266.61it/s]\n"
     ]
    },
    {
     "data": {
      "text/plain": "        0     1     2     3     4     5\n0       1  6724  8649  2809   400  7056\n1     484   900  4489  1225  3721  7056\n2    1369  4096  7569   729  1156  9409\n3    6084    81   361  4900  2304   576\n4      25  2601   529  4761  1024  6724\n..    ...   ...   ...   ...   ...   ...\n995  6561  3844  4489  2209     1  5329\n996   256   361  5776   841   625  2116\n997  5929  2304   324  4489  3364  9801\n998  2304   289   784   225   196  1024\n999   676  7396  1764  7056  5929    36\n\n[1000 rows x 6 columns]",
      "text/html": "<div>\n<style scoped>\n    .dataframe tbody tr th:only-of-type {\n        vertical-align: middle;\n    }\n\n    .dataframe tbody tr th {\n        vertical-align: top;\n    }\n\n    .dataframe thead th {\n        text-align: right;\n    }\n</style>\n<table border=\"1\" class=\"dataframe\">\n  <thead>\n    <tr style=\"text-align: right;\">\n      <th></th>\n      <th>0</th>\n      <th>1</th>\n      <th>2</th>\n      <th>3</th>\n      <th>4</th>\n      <th>5</th>\n    </tr>\n  </thead>\n  <tbody>\n    <tr>\n      <th>0</th>\n      <td>1</td>\n      <td>6724</td>\n      <td>8649</td>\n      <td>2809</td>\n      <td>400</td>\n      <td>7056</td>\n    </tr>\n    <tr>\n      <th>1</th>\n      <td>484</td>\n      <td>900</td>\n      <td>4489</td>\n      <td>1225</td>\n      <td>3721</td>\n      <td>7056</td>\n    </tr>\n    <tr>\n      <th>2</th>\n      <td>1369</td>\n      <td>4096</td>\n      <td>7569</td>\n      <td>729</td>\n      <td>1156</td>\n      <td>9409</td>\n    </tr>\n    <tr>\n      <th>3</th>\n      <td>6084</td>\n      <td>81</td>\n      <td>361</td>\n      <td>4900</td>\n      <td>2304</td>\n      <td>576</td>\n    </tr>\n    <tr>\n      <th>4</th>\n      <td>25</td>\n      <td>2601</td>\n      <td>529</td>\n      <td>4761</td>\n      <td>1024</td>\n      <td>6724</td>\n    </tr>\n    <tr>\n      <th>...</th>\n      <td>...</td>\n      <td>...</td>\n      <td>...</td>\n      <td>...</td>\n      <td>...</td>\n      <td>...</td>\n    </tr>\n    <tr>\n      <th>995</th>\n      <td>6561</td>\n      <td>3844</td>\n      <td>4489</td>\n      <td>2209</td>\n      <td>1</td>\n      <td>5329</td>\n    </tr>\n    <tr>\n      <th>996</th>\n      <td>256</td>\n      <td>361</td>\n      <td>5776</td>\n      <td>841</td>\n      <td>625</td>\n      <td>2116</td>\n    </tr>\n    <tr>\n      <th>997</th>\n      <td>5929</td>\n      <td>2304</td>\n      <td>324</td>\n      <td>4489</td>\n      <td>3364</td>\n      <td>9801</td>\n    </tr>\n    <tr>\n      <th>998</th>\n      <td>2304</td>\n      <td>289</td>\n      <td>784</td>\n      <td>225</td>\n      <td>196</td>\n      <td>1024</td>\n    </tr>\n    <tr>\n      <th>999</th>\n      <td>676</td>\n      <td>7396</td>\n      <td>1764</td>\n      <td>7056</td>\n      <td>5929</td>\n      <td>36</td>\n    </tr>\n  </tbody>\n</table>\n<p>1000 rows × 6 columns</p>\n</div>"
     },
     "execution_count": 20,
     "metadata": {},
     "output_type": "execute_result"
    }
   ],
   "source": [
    "import pandas as pd\n",
    "import numpy as np\n",
    "\n",
    "df = pd.DataFrame(np.random.randint(0, 100, (1000, 6)))\n",
    "tqdm.pandas(ncols=500)  # can use tqdm_gui, optional kwargs, etc\n",
    "# Now you can use `progress_apply` instead of `apply`\n",
    "df.groupby(0).progress_apply(lambda x: x**2)"
   ],
   "metadata": {
    "collapsed": false,
    "pycharm": {
     "name": "#%%\n"
    }
   }
  }
 ],
 "metadata": {
  "kernelspec": {
   "display_name": "Python 3",
   "language": "python",
   "name": "python3"
  },
  "language_info": {
   "codemirror_mode": {
    "name": "ipython",
    "version": 2
   },
   "file_extension": ".py",
   "mimetype": "text/x-python",
   "name": "python",
   "nbconvert_exporter": "python",
   "pygments_lexer": "ipython2",
   "version": "2.7.6"
  }
 },
 "nbformat": 4,
 "nbformat_minor": 0
}