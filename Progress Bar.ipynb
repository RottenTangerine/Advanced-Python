{
 "cells": [
  {
   "cell_type": "markdown",
   "metadata": {
    "collapsed": true,
    "pycharm": {
     "name": "#%% md\n"
    }
   },
   "source": [
    "# Progress Bar by using tqdm\n",
    "\n",
    "Progress bar can improve user experience and reduce anxiety.\n",
    "\n",
    "Reference: [tqdm documentation](https://tqdm.github.io/docs/tqdm)"
   ]
  },
  {
   "cell_type": "markdown",
   "source": [
    "## Common Parameters\n",
    "\n",
    "- **iterable**: An iterable object\n",
    "- **desc**: str, Description\n",
    "- **total**: Number of expected iterations\n",
    "- **leave**: True, Keeps the progress bar after finished\n",
    "- **ncols**: The width of the entire output message.If 0, will not print any meter (only stats).\n",
    "- **unit**: String that will be used to define the unit of each iteration [default: it].\n",
    "- **smoothing**: float, optional Exponential moving average smoothing factor for speed estimates (ignored in GUI mode). Ranges from 0 (average speed) to 1 (current/instantaneous speed) [default: 0.3].\n",
    "- **unit_scale**: bool, If 1 or True, the number of iterations will be printed with an appropriate SI metric prefix (k = 10^3, M = 10^6, etc.) [default: False]. If any other non-zero number, will scale total and n\n",
    "- **colour**: Bar colour eg.‘green’, ‘#00ff00’。"
   ],
   "metadata": {
    "collapsed": false,
    "pycharm": {
     "name": "#%% md\n"
    }
   }
  },
  {
   "cell_type": "markdown",
   "source": [
    "## Basic Useage\n",
    "\n",
    "**Note:**\n",
    "\n",
    "In jupyter notebook, you can import tqdm from tqdm.notebook module, It still has some bugs, so I still recommend you to use tqdm rather than tqdm.notebook even in jupyter notebook."
   ],
   "metadata": {
    "collapsed": false
   }
  },
  {
   "cell_type": "code",
   "execution_count": 2,
   "outputs": [],
   "source": [
    "import time\n",
    "from tqdm import tqdm"
   ],
   "metadata": {
    "collapsed": false,
    "pycharm": {
     "name": "#%%\n"
    }
   }
  },
  {
   "cell_type": "markdown",
   "source": [
    "### pass iterable parameter"
   ],
   "metadata": {
    "collapsed": false
   }
  },
  {
   "cell_type": "code",
   "execution_count": 3,
   "outputs": [
    {
     "name": "stderr",
     "output_type": "stream",
     "text": [
      "Some text: 100%|\u001B[38;2;255;255;0m██████████\u001B[0m| 500/500 [00:07<00:00, 65.10packages/s]\n"
     ]
    }
   ],
   "source": [
    "for i in tqdm(range(500), colour='#ffff00', desc='Some text', unit='packages'):\n",
    "    time.sleep(0.1e-10)\n",
    "\n",
    "# Off-topic: the time sleep function is based on timestamp. which means the minimum interval is 1ms, no matter how small the parameter is."
   ],
   "metadata": {
    "collapsed": false,
    "pycharm": {
     "name": "#%%\n"
    }
   }
  },
  {
   "cell_type": "code",
   "execution_count": 4,
   "outputs": [
    {
     "name": "stderr",
     "output_type": "stream",
     "text": [
      "progress : 100%|██████████| 10/10 [00:05<00:00,  1.97it/s]\n"
     ]
    }
   ],
   "source": [
    "pbar = tqdm(range(10))\n",
    "\n",
    "for i in pbar:\n",
    "    pbar.set_description(\"progress \")\n",
    "    time.sleep(0.5)"
   ],
   "metadata": {
    "collapsed": false,
    "pycharm": {
     "name": "#%%\n"
    }
   }
  },
  {
   "cell_type": "markdown",
   "source": [
    "### Nested loop"
   ],
   "metadata": {
    "collapsed": false,
    "pycharm": {
     "name": "#%% md\n"
    }
   }
  },
  {
   "cell_type": "code",
   "execution_count": 5,
   "outputs": [
    {
     "name": "stderr",
     "output_type": "stream",
     "text": [
      "                                                                   atches/s]\r"
     ]
    }
   ],
   "source": [
    "epoch_num = 5\n",
    "for epoch in range(epoch_num):\n",
    "    for i, (data) in enumerate(tqdm(range(200), leave=False, colour='cyan', desc=f'Epoch {epoch} / {epoch_num}', unit='batches')):\n",
    "        time.sleep(0.01)"
   ],
   "metadata": {
    "collapsed": false,
    "pycharm": {
     "name": "#%%\n"
    }
   }
  },
  {
   "cell_type": "markdown",
   "source": [
    "### update progress manually"
   ],
   "metadata": {
    "collapsed": false
   }
  },
  {
   "cell_type": "code",
   "execution_count": 6,
   "outputs": [
    {
     "name": "stderr",
     "output_type": "stream",
     "text": [
      " 70%|███████   | 70/100 [00:01<00:00, 65.28it/s]\n"
     ]
    }
   ],
   "source": [
    "with tqdm(total=100) as pbar:\n",
    "    for i in range(10):\n",
    "        time.sleep(0.1)\n",
    "        pbar.update(7)"
   ],
   "metadata": {
    "collapsed": false,
    "pycharm": {
     "name": "#%%\n"
    }
   }
  },
  {
   "cell_type": "code",
   "execution_count": 7,
   "outputs": [
    {
     "name": "stderr",
     "output_type": "stream",
     "text": [
      "30it [00:01, 28.03it/s]                        \n"
     ]
    }
   ],
   "source": [
    "with tqdm(total=20) as pbar:\n",
    "    for i in range(10):\n",
    "        time.sleep(0.1)\n",
    "        pbar.update(3)"
   ],
   "metadata": {
    "collapsed": false,
    "pycharm": {
     "name": "#%%\n"
    }
   }
  },
  {
   "cell_type": "markdown",
   "source": [
    "### tqdm in list comprehension"
   ],
   "metadata": {
    "collapsed": false
   }
  },
  {
   "cell_type": "code",
   "execution_count": 8,
   "outputs": [
    {
     "name": "stderr",
     "output_type": "stream",
     "text": [
      " 20%|██        | 1/5 [00:01<00:04,  1.01s/it]"
     ]
    },
    {
     "name": "stdout",
     "output_type": "stream",
     "text": [
      "Hello\n"
     ]
    },
    {
     "name": "stderr",
     "output_type": "stream",
     "text": [
      " 40%|████      | 2/5 [00:02<00:03,  1.01s/it]"
     ]
    },
    {
     "name": "stdout",
     "output_type": "stream",
     "text": [
      "I\n"
     ]
    },
    {
     "name": "stderr",
     "output_type": "stream",
     "text": [
      " 60%|██████    | 3/5 [00:03<00:02,  1.01s/it]"
     ]
    },
    {
     "name": "stdout",
     "output_type": "stream",
     "text": [
      "am\n"
     ]
    },
    {
     "name": "stderr",
     "output_type": "stream",
     "text": [
      " 80%|████████  | 4/5 [00:04<00:01,  1.01s/it]"
     ]
    },
    {
     "name": "stdout",
     "output_type": "stream",
     "text": [
      "Eden\n"
     ]
    },
    {
     "name": "stderr",
     "output_type": "stream",
     "text": [
      "100%|██████████| 5/5 [00:05<00:00,  1.01s/it]"
     ]
    },
    {
     "name": "stdout",
     "output_type": "stream",
     "text": [
      "Xiang\n"
     ]
    },
    {
     "name": "stderr",
     "output_type": "stream",
     "text": [
      "\n"
     ]
    },
    {
     "data": {
      "text/plain": "[(None, None), (None, None), (None, None), (None, None), (None, None)]"
     },
     "execution_count": 8,
     "metadata": {},
     "output_type": "execute_result"
    }
   ],
   "source": [
    "list1 = 'Hello I am Eden Xiang'.split(' ')\n",
    "[(time.sleep(1), print(i)) for i in tqdm(list1)]"
   ],
   "metadata": {
    "collapsed": false,
    "pycharm": {
     "name": "#%%\n"
    }
   }
  },
  {
   "cell_type": "markdown",
   "source": [
    "## Advance"
   ],
   "metadata": {
    "collapsed": false,
    "pycharm": {
     "name": "#%% md\n"
    }
   }
  },
  {
   "cell_type": "code",
   "execution_count": 9,
   "outputs": [
    {
     "name": "stderr",
     "output_type": "stream",
     "text": [
      "100%|███████████████████████████████████████████████████████████████████████████████████████████████████████████████████████████████████████████████████████████████████████████████████████████████████████████████████████████████████████████████████████████████████████████████████████████████████████████████████████████████████████████████████████████████████████████████████████████████████████████████████████████████████████████████████████████████████████████| 100/100 [00:00<00:00, 1000.39it/s]\n"
     ]
    },
    {
     "data": {
      "text/plain": "        0     1     2     3     4     5\n0    4761  9409  2500    49  6724     0\n1    4489  4096  4096   961  6400  6889\n2     100  1600   529  5929   676  1024\n3    5041   784  5625  3481  5625    16\n4    4761  4761  1156   100  2304  1225\n..    ...   ...   ...   ...   ...   ...\n995  3969  1296  8836    49  1156   729\n996   196  2500  1225  3600  7569  2500\n997   841   289  2601  9604  5476   961\n998   576  7225  1849  3481  3721   729\n999  4900    81  4489   256  5776  8281\n\n[1000 rows x 6 columns]",
      "text/html": "<div>\n<style scoped>\n    .dataframe tbody tr th:only-of-type {\n        vertical-align: middle;\n    }\n\n    .dataframe tbody tr th {\n        vertical-align: top;\n    }\n\n    .dataframe thead th {\n        text-align: right;\n    }\n</style>\n<table border=\"1\" class=\"dataframe\">\n  <thead>\n    <tr style=\"text-align: right;\">\n      <th></th>\n      <th>0</th>\n      <th>1</th>\n      <th>2</th>\n      <th>3</th>\n      <th>4</th>\n      <th>5</th>\n    </tr>\n  </thead>\n  <tbody>\n    <tr>\n      <th>0</th>\n      <td>4761</td>\n      <td>9409</td>\n      <td>2500</td>\n      <td>49</td>\n      <td>6724</td>\n      <td>0</td>\n    </tr>\n    <tr>\n      <th>1</th>\n      <td>4489</td>\n      <td>4096</td>\n      <td>4096</td>\n      <td>961</td>\n      <td>6400</td>\n      <td>6889</td>\n    </tr>\n    <tr>\n      <th>2</th>\n      <td>100</td>\n      <td>1600</td>\n      <td>529</td>\n      <td>5929</td>\n      <td>676</td>\n      <td>1024</td>\n    </tr>\n    <tr>\n      <th>3</th>\n      <td>5041</td>\n      <td>784</td>\n      <td>5625</td>\n      <td>3481</td>\n      <td>5625</td>\n      <td>16</td>\n    </tr>\n    <tr>\n      <th>4</th>\n      <td>4761</td>\n      <td>4761</td>\n      <td>1156</td>\n      <td>100</td>\n      <td>2304</td>\n      <td>1225</td>\n    </tr>\n    <tr>\n      <th>...</th>\n      <td>...</td>\n      <td>...</td>\n      <td>...</td>\n      <td>...</td>\n      <td>...</td>\n      <td>...</td>\n    </tr>\n    <tr>\n      <th>995</th>\n      <td>3969</td>\n      <td>1296</td>\n      <td>8836</td>\n      <td>49</td>\n      <td>1156</td>\n      <td>729</td>\n    </tr>\n    <tr>\n      <th>996</th>\n      <td>196</td>\n      <td>2500</td>\n      <td>1225</td>\n      <td>3600</td>\n      <td>7569</td>\n      <td>2500</td>\n    </tr>\n    <tr>\n      <th>997</th>\n      <td>841</td>\n      <td>289</td>\n      <td>2601</td>\n      <td>9604</td>\n      <td>5476</td>\n      <td>961</td>\n    </tr>\n    <tr>\n      <th>998</th>\n      <td>576</td>\n      <td>7225</td>\n      <td>1849</td>\n      <td>3481</td>\n      <td>3721</td>\n      <td>729</td>\n    </tr>\n    <tr>\n      <th>999</th>\n      <td>4900</td>\n      <td>81</td>\n      <td>4489</td>\n      <td>256</td>\n      <td>5776</td>\n      <td>8281</td>\n    </tr>\n  </tbody>\n</table>\n<p>1000 rows × 6 columns</p>\n</div>"
     },
     "execution_count": 9,
     "metadata": {},
     "output_type": "execute_result"
    }
   ],
   "source": [
    "import pandas as pd\n",
    "import numpy as np\n",
    "\n",
    "df = pd.DataFrame(np.random.randint(0, 100, (1000, 6)))\n",
    "tqdm.pandas(ncols=500)  # can use tqdm_gui, optional kwargs, etc\n",
    "# Now you can use `progress_apply` instead of `apply`\n",
    "df.groupby(0).progress_apply(lambda x: x**2)"
   ],
   "metadata": {
    "collapsed": false,
    "pycharm": {
     "name": "#%%\n"
    }
   }
  }
 ],
 "metadata": {
  "kernelspec": {
   "display_name": "Python 3",
   "language": "python",
   "name": "python3"
  },
  "language_info": {
   "codemirror_mode": {
    "name": "ipython",
    "version": 2
   },
   "file_extension": ".py",
   "mimetype": "text/x-python",
   "name": "python",
   "nbconvert_exporter": "python",
   "pygments_lexer": "ipython2",
   "version": "2.7.6"
  }
 },
 "nbformat": 4,
 "nbformat_minor": 0
}