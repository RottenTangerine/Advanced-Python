{
 "cells": [
  {
   "cell_type": "markdown",
   "metadata": {
    "collapsed": true,
    "pycharm": {
     "name": "#%% md\n"
    }
   },
   "source": [
    "# Progress Bar by using tqdm\n",
    "\n",
    "Progress bar can improve user experience and reduce anxiety.\n",
    "\n",
    "Reference: [tqdm documentation](https://tqdm.github.io/docs/tqdm)"
   ]
  },
  {
   "cell_type": "markdown",
   "source": [
    "## Common Parameters\n",
    "\n",
    "- **iterable**: An iterable object\n",
    "- **desc**: str, Description\n",
    "- **total**: Number of expected iterations\n",
    "- **leave**: True, Keeps the progress bar after finished\n",
    "- **ncols**: The width of the entire output message.If 0, will not print any meter (only stats).\n",
    "- **unit**: String that will be used to define the unit of each iteration [default: it].\n",
    "- **smoothing**: float, optional Exponential moving average smoothing factor for speed estimates (ignored in GUI mode). Ranges from 0 (average speed) to 1 (current/instantaneous speed) [default: 0.3].\n",
    "- **unit_scale**: bool, If 1 or True, the number of iterations will be printed with an appropriate SI metric prefix (k = 10^3, M = 10^6, etc.) [default: False]. If any other non-zero number, will scale total and n\n",
    "- **colour**: Bar colour eg.‘green’, ‘#00ff00’。"
   ],
   "metadata": {
    "collapsed": false,
    "pycharm": {
     "name": "#%% md\n"
    }
   }
  },
  {
   "cell_type": "markdown",
   "source": [
    "## Basic Useage\n",
    "\n",
    "**Note:**\n",
    "\n",
    "In jupyter notebook, you need to import tqdm.notebook form tqdm module"
   ],
   "metadata": {
    "collapsed": false
   }
  },
  {
   "cell_type": "code",
   "execution_count": 14,
   "outputs": [],
   "source": [
    "import time\n",
    "from tqdm.notebook import tqdm"
   ],
   "metadata": {
    "collapsed": false,
    "pycharm": {
     "name": "#%%\n"
    }
   }
  },
  {
   "cell_type": "markdown",
   "source": [
    "### pass iterable parameter"
   ],
   "metadata": {
    "collapsed": false
   }
  },
  {
   "cell_type": "code",
   "execution_count": 50,
   "outputs": [
    {
     "data": {
      "text/plain": "Some text:   0%|          | 0/500 [00:00<?, ?packages/s]",
      "application/vnd.jupyter.widget-view+json": {
       "version_major": 2,
       "version_minor": 0,
       "model_id": "8e2d5167e2f94b8e9dfc22f3e219667b"
      }
     },
     "metadata": {},
     "output_type": "display_data"
    }
   ],
   "source": [
    "for i in tqdm(range(500), colour='#ffff00', desc='Some text', unit='packages', leave=False):\n",
    "    time.sleep(0.1e-10)\n",
    "\n",
    "# Off-topic: the time sleep function is based on timestamp. which means the minimum interval is 1ms, no matter how small the parameter is."
   ],
   "metadata": {
    "collapsed": false,
    "pycharm": {
     "name": "#%%\n"
    }
   }
  },
  {
   "cell_type": "code",
   "execution_count": 31,
   "outputs": [
    {
     "data": {
      "text/plain": "  0%|          | 0/10 [00:00<?, ?it/s]",
      "application/vnd.jupyter.widget-view+json": {
       "version_major": 2,
       "version_minor": 0,
       "model_id": "4c2a299308274cdf8434e7277c06f8c8"
      }
     },
     "metadata": {},
     "output_type": "display_data"
    }
   ],
   "source": [
    "pbar = tqdm(range(10))\n",
    "\n",
    "for i in pbar:\n",
    "    pbar.set_description(\"progress \")\n",
    "    time.sleep(0.5)"
   ],
   "metadata": {
    "collapsed": false,
    "pycharm": {
     "name": "#%%\n"
    }
   }
  },
  {
   "cell_type": "markdown",
   "source": [
    "### update progress manually"
   ],
   "metadata": {
    "collapsed": false
   }
  },
  {
   "cell_type": "code",
   "execution_count": null,
   "outputs": [],
   "source": [
    "with tqdm(total=100) as pbar:\n",
    "    for i in range(10):\n",
    "        time.sleep(0.5)\n",
    "        pbar.update(7)"
   ],
   "metadata": {
    "collapsed": false,
    "pycharm": {
     "name": "#%%\n"
    }
   }
  },
  {
   "cell_type": "code",
   "execution_count": null,
   "outputs": [],
   "source": [
    "with tqdm(total=20) as pbar:\n",
    "    for i in range(10):\n",
    "        time.sleep(0.5)\n",
    "        pbar.update(3)"
   ],
   "metadata": {
    "collapsed": false,
    "pycharm": {
     "name": "#%%\n"
    }
   }
  },
  {
   "cell_type": "markdown",
   "source": [
    "### tqdm in list comprehension"
   ],
   "metadata": {
    "collapsed": false
   }
  },
  {
   "cell_type": "code",
   "execution_count": 4,
   "outputs": [
    {
     "data": {
      "text/plain": "  0%|          | 0/100 [00:00<?, ?it/s]",
      "application/vnd.jupyter.widget-view+json": {
       "version_major": 2,
       "version_minor": 0,
       "model_id": "da030a5357dc4906ad5b1f883a9bda89"
      }
     },
     "metadata": {},
     "output_type": "display_data"
    }
   ],
   "source": [
    "list1 = [\"My\",\"Name\",\"Is\",\"Ashwini\",\"Mandani\"]\n",
    "list1 = [(time.sleep(1), print(i)) for i in tqdm(list1)]\n",
    "list1"
   ],
   "metadata": {
    "collapsed": false,
    "pycharm": {
     "name": "#%%\n"
    }
   }
  },
  {
   "cell_type": "markdown",
   "source": [
    "## Advance"
   ],
   "metadata": {
    "collapsed": false,
    "pycharm": {
     "name": "#%% md\n"
    }
   }
  },
  {
   "cell_type": "code",
   "execution_count": 22,
   "outputs": [
    {
     "data": {
      "text/plain": "  0%|                                                                                                         …",
      "application/vnd.jupyter.widget-view+json": {
       "version_major": 2,
       "version_minor": 0,
       "model_id": "77c4718d448d4c289f92d465aeecb41f"
      }
     },
     "metadata": {},
     "output_type": "display_data"
    },
    {
     "data": {
      "text/plain": "        0     1     2     3     4     5\n0    3249  5625  3136  3481  1156  1936\n1    4489   361  6400  5625  7744  6241\n2    2916  1936    81  5041  5476  2500\n3    1369   324  2209   441     9  6724\n4    3721  2025     1  3969  2209  3844\n..    ...   ...   ...   ...   ...   ...\n995  3969  1936  3481  5776  1369  2025\n996  2601  8100   144  2401   576  4761\n997  4356  4489   441     0  9216  2116\n998    64  2116  6561  9025   196   784\n999  7056  7396  4900  2209  1225   324\n\n[1000 rows x 6 columns]",
      "text/html": "<div>\n<style scoped>\n    .dataframe tbody tr th:only-of-type {\n        vertical-align: middle;\n    }\n\n    .dataframe tbody tr th {\n        vertical-align: top;\n    }\n\n    .dataframe thead th {\n        text-align: right;\n    }\n</style>\n<table border=\"1\" class=\"dataframe\">\n  <thead>\n    <tr style=\"text-align: right;\">\n      <th></th>\n      <th>0</th>\n      <th>1</th>\n      <th>2</th>\n      <th>3</th>\n      <th>4</th>\n      <th>5</th>\n    </tr>\n  </thead>\n  <tbody>\n    <tr>\n      <th>0</th>\n      <td>3249</td>\n      <td>5625</td>\n      <td>3136</td>\n      <td>3481</td>\n      <td>1156</td>\n      <td>1936</td>\n    </tr>\n    <tr>\n      <th>1</th>\n      <td>4489</td>\n      <td>361</td>\n      <td>6400</td>\n      <td>5625</td>\n      <td>7744</td>\n      <td>6241</td>\n    </tr>\n    <tr>\n      <th>2</th>\n      <td>2916</td>\n      <td>1936</td>\n      <td>81</td>\n      <td>5041</td>\n      <td>5476</td>\n      <td>2500</td>\n    </tr>\n    <tr>\n      <th>3</th>\n      <td>1369</td>\n      <td>324</td>\n      <td>2209</td>\n      <td>441</td>\n      <td>9</td>\n      <td>6724</td>\n    </tr>\n    <tr>\n      <th>4</th>\n      <td>3721</td>\n      <td>2025</td>\n      <td>1</td>\n      <td>3969</td>\n      <td>2209</td>\n      <td>3844</td>\n    </tr>\n    <tr>\n      <th>...</th>\n      <td>...</td>\n      <td>...</td>\n      <td>...</td>\n      <td>...</td>\n      <td>...</td>\n      <td>...</td>\n    </tr>\n    <tr>\n      <th>995</th>\n      <td>3969</td>\n      <td>1936</td>\n      <td>3481</td>\n      <td>5776</td>\n      <td>1369</td>\n      <td>2025</td>\n    </tr>\n    <tr>\n      <th>996</th>\n      <td>2601</td>\n      <td>8100</td>\n      <td>144</td>\n      <td>2401</td>\n      <td>576</td>\n      <td>4761</td>\n    </tr>\n    <tr>\n      <th>997</th>\n      <td>4356</td>\n      <td>4489</td>\n      <td>441</td>\n      <td>0</td>\n      <td>9216</td>\n      <td>2116</td>\n    </tr>\n    <tr>\n      <th>998</th>\n      <td>64</td>\n      <td>2116</td>\n      <td>6561</td>\n      <td>9025</td>\n      <td>196</td>\n      <td>784</td>\n    </tr>\n    <tr>\n      <th>999</th>\n      <td>7056</td>\n      <td>7396</td>\n      <td>4900</td>\n      <td>2209</td>\n      <td>1225</td>\n      <td>324</td>\n    </tr>\n  </tbody>\n</table>\n<p>1000 rows × 6 columns</p>\n</div>"
     },
     "execution_count": 22,
     "metadata": {},
     "output_type": "execute_result"
    }
   ],
   "source": [
    "import pandas as pd\n",
    "import numpy as np\n",
    "\n",
    "df = pd.DataFrame(np.random.randint(0, 100, (1000, 6)))\n",
    "tqdm.pandas(ncols=500)  # can use tqdm_gui, optional kwargs, etc\n",
    "# Now you can use `progress_apply` instead of `apply`\n",
    "df.groupby(0).progress_apply(lambda x: x**2)"
   ],
   "metadata": {
    "collapsed": false,
    "pycharm": {
     "name": "#%%\n"
    }
   }
  }
 ],
 "metadata": {
  "kernelspec": {
   "display_name": "Python 3",
   "language": "python",
   "name": "python3"
  },
  "language_info": {
   "codemirror_mode": {
    "name": "ipython",
    "version": 2
   },
   "file_extension": ".py",
   "mimetype": "text/x-python",
   "name": "python",
   "nbconvert_exporter": "python",
   "pygments_lexer": "ipython2",
   "version": "2.7.6"
  }
 },
 "nbformat": 4,
 "nbformat_minor": 0
}