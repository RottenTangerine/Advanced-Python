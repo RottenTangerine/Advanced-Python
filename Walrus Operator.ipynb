{
 "cells": [
  {
   "cell_type": "markdown",
   "metadata": {
    "collapsed": true,
    "pycharm": {
     "name": "#%% md\n"
    }
   },
   "source": [
    "# Walrus Operator\n",
    "\n",
    "Walrus Operator `:=` can assign value to a variable and return that value.\n",
    "\n",
    "### Advance:\n",
    "- make code more concise\n",
    "- easy to read\n",
    "- may more efficient"
   ]
  },
  {
   "cell_type": "markdown",
   "source": [
    "Example 1"
   ],
   "metadata": {
    "collapsed": false,
    "pycharm": {
     "name": "#%% md\n"
    }
   }
  },
  {
   "cell_type": "code",
   "execution_count": 404,
   "outputs": [
    {
     "name": "stdout",
     "output_type": "stream",
     "text": [
      "15\n"
     ]
    }
   ],
   "source": [
    "print(num := 15)"
   ],
   "metadata": {
    "collapsed": false,
    "pycharm": {
     "name": "#%%\n"
    }
   }
  },
  {
   "cell_type": "markdown",
   "source": [
    "Use walrus operator can assign value where is originally not allowed\n",
    "eg: while loop"
   ],
   "metadata": {
    "collapsed": false,
    "pycharm": {
     "name": "#%% md\n"
    }
   }
  },
  {
   "cell_type": "markdown",
   "source": [],
   "metadata": {
    "collapsed": false
   }
  },
  {
   "cell_type": "code",
   "execution_count": 405,
   "outputs": [
    {
     "name": "stdout",
     "output_type": "stream",
     "text": [
      "0\n",
      "1\n"
     ]
    }
   ],
   "source": [
    "while (init := init + 1 if 'init' in locals().keys() else 0) < 2:\n",
    "    print(init)\n",
    "del init"
   ],
   "metadata": {
    "collapsed": false,
    "pycharm": {
     "name": "#%%\n"
    }
   }
  },
  {
   "cell_type": "code",
   "execution_count": 406,
   "outputs": [
    {
     "name": "stdout",
     "output_type": "stream",
     "text": [
      "15"
     ]
    }
   ],
   "source": [
    "def sig(i):\n",
    "    while (counter := counter + 1 if 'counter' in locals().keys() else 0) < i + 1:print(total if ((total := total + counter if 'total' in locals().keys() else 0) and not (counter + 1 < i + 1)) else '', end='')\n",
    "sig(5)"
   ],
   "metadata": {
    "collapsed": false,
    "pycharm": {
     "name": "#%%\n"
    }
   }
  },
  {
   "cell_type": "code",
   "execution_count": 407,
   "outputs": [],
   "source": [
    "i = 4\n",
    "while (counter := counter + 1 if 'counter' in locals().keys() else 0) < i + 1:\n",
    "    print(total if (x := (total:=total + counter if 'total' in locals().keys() else 0), y := (counter + 1 < i + 1)) and bool((x and not y) or (not x and y)) else '', end='')\n",
    "del counter, total"
   ],
   "metadata": {
    "collapsed": false,
    "pycharm": {
     "name": "#%%\n"
    }
   }
  },
  {
   "cell_type": "markdown",
   "source": [
    "这里写错了但是还是记个笔记，这里可以以tuple声明变量再代入逻辑运算，注意tuple只要len大于0就为True"
   ],
   "metadata": {
    "collapsed": false,
    "pycharm": {
     "name": "#%% md\n"
    }
   }
  },
  {
   "cell_type": "markdown",
   "source": [
    "## list comprehension"
   ],
   "metadata": {
    "collapsed": false,
    "pycharm": {
     "name": "#%% md\n"
    }
   }
  },
  {
   "cell_type": "code",
   "execution_count": 408,
   "outputs": [
    {
     "data": {
      "text/plain": "[1, 8, 27, 64]"
     },
     "execution_count": 408,
     "metadata": {},
     "output_type": "execute_result"
    }
   ],
   "source": [
    "num_list = [1, 2, 3, 4, 5, 6]\n",
    "cube = lambda x: x ** 3\n",
    "\n",
    "# traditional way\n",
    "[cube(x) for x in num_list if cube(x) < 100]\n",
    "\n",
    "# using walrus operator\n",
    "[y for x in num_list if (y:= cube(x)) < 100]"
   ],
   "metadata": {
    "collapsed": false,
    "pycharm": {
     "name": "#%%\n"
    }
   }
  }
 ],
 "metadata": {
  "kernelspec": {
   "display_name": "Python 3",
   "language": "python",
   "name": "python3"
  },
  "language_info": {
   "codemirror_mode": {
    "name": "ipython",
    "version": 2
   },
   "file_extension": ".py",
   "mimetype": "text/x-python",
   "name": "python",
   "nbconvert_exporter": "python",
   "pygments_lexer": "ipython2",
   "version": "2.7.6"
  }
 },
 "nbformat": 4,
 "nbformat_minor": 0
}